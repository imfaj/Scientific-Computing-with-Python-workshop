{
  "nbformat": 4,
  "nbformat_minor": 0,
  "metadata": {
    "colab": {
      "name": "SCwP Week 1.ipynb",
      "provenance": [],
      "collapsed_sections": []
    },
    "kernelspec": {
      "name": "python3",
      "display_name": "Python 3"
    },
    "language_info": {
      "name": "python"
    }
  },
  "cells": [
    {
      "cell_type": "markdown",
      "source": [
        "#**Lunes 16/Mayo**\n",
        "---"
      ],
      "metadata": {
        "id": "ZktscFF_ikxc"
      }
    },
    {
      "cell_type": "markdown",
      "source": [
        "##**Introducción**\n",
        "---\n",
        "\n",
        "Se vio la presentacion sobre la Computacion Cientifica y Python\n"
      ],
      "metadata": {
        "id": "uUvZ1WsciGds"
      }
    },
    {
      "cell_type": "markdown",
      "source": [
        "##**Blibliotecas y documentación en Python**\n",
        "---\n",
        "Se abrio el archivo llamado _CC_IntroYBibliotecas.ipynb_, aqui en google colab. \n",
        "\n",
        "File -> upload notebook"
      ],
      "metadata": {
        "id": "-YhW8X88iQOa"
      }
    },
    {
      "cell_type": "markdown",
      "source": [
        "##**Numpy: Fundamento de Python cientifico**\n",
        "---\n",
        "Se abrio el archivo llamado _CC_NumPy.ipynb_\n",
        "\n",
        "Durante la revision de este archivo se cargaron los documentos: _entrada.csv_ y _sismos.csv_, los cuales para el caso de google colab hay que estar cargando cada vez que se requieran usar."
      ],
      "metadata": {
        "id": "sxCTDmRQiWnq"
      }
    },
    {
      "cell_type": "markdown",
      "source": [
        "##**Extra-Clase**\n",
        "---\n",
        "\n",
        "Se hizo el ejercicio presente en el archivo _CC_NumPy.ipynb_, sobre la realización de un arreglo para X y Y, con 100 valores para cada uno, que fueran en un rango de 300 a 540."
      ],
      "metadata": {
        "id": "jOHhjBigKD7J"
      }
    },
    {
      "cell_type": "markdown",
      "source": [
        "#**Miercoles 18/Mayo**\n",
        "---\n",
        "\n",
        "Primero la instructora, sugirio otra solucion para el ejercicio."
      ],
      "metadata": {
        "id": "97J-c0oXGJTQ"
      }
    },
    {
      "cell_type": "markdown",
      "source": [
        "##**Herramientas de computación científica con SciPy**\n",
        "\n",
        "---\n",
        "\n",
        "\n",
        "Se abrió el notebook en colab de llamado _CC_SciPy.ipynb_ y se trabajó ahí.\n",
        "\n",
        "Se hizó el ejercicio para determinar el valor de _k_ que cumple ser mayor a 1000.\n",
        "\n",
        "Se hizó el ejercicio del modelo SIR, almacenando los resultados obtenidos en un archivo formato _.csv_ llamado _modeloSIR.csv_.\n",
        "\n",
        "Se vió hasta la sección _Módulo scipy.interpolate: Interpolación_. El resto se concluye en la proxima leccion."
      ],
      "metadata": {
        "id": "UObOdff3Gd8m"
      }
    },
    {
      "cell_type": "markdown",
      "source": [
        "#**Viernes 20/Mayo**\n",
        "---"
      ],
      "metadata": {
        "id": "SzvMT3vPGXWs"
      }
    },
    {
      "cell_type": "markdown",
      "source": [
        "##**Herramientas de computación científica con SciPy (Continuación)**\n",
        "---\n",
        "\n",
        "Se continuó trabajando con el notebook en colab de llamado _CC_SciPy.ipynb_, de la sección _Módulo scipy.optimize: Optimización_ en adelante.\n",
        "\n",
        "Se generó el archivo *pajarito_filt.wav*, el cual es un audio con ruido de fondo eliminado.\n",
        "Se concluyó este cuaderno."
      ],
      "metadata": {
        "id": "aGLa4B7xGk2R"
      }
    },
    {
      "cell_type": "markdown",
      "source": [
        "##**Trabajo en práctica final 1: NumPy y SciPy**\n",
        "---\n",
        "Se trabajo _PracticaF_NumPyScipy.ipynb_."
      ],
      "metadata": {
        "id": "uUGRXSUdGq1b"
      }
    }
  ]
}