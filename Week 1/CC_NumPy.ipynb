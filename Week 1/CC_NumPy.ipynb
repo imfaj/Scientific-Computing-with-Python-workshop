{
  "nbformat": 4,
  "nbformat_minor": 0,
  "metadata": {
    "colab": {
      "name": "CC_NumPy.ipynb",
      "provenance": [],
      "collapsed_sections": []
    },
    "kernelspec": {
      "name": "python3",
      "display_name": "Python 3"
    }
  },
  "cells": [
    {
      "cell_type": "markdown",
      "metadata": {
        "id": "J3zgJzVQ2lud"
      },
      "source": [
        "# <center> NumPy: Fundamento de Python científico </center>\n",
        "\n",
        "<center> <img src=\"https://drive.google.com/uc?export=view&id=1u9BJ9wGWUiQQnPdgH8NxPxLmjn2Q2iBX\" alt=\"image info\" width=\"500\"/> </center>\n",
        "\n",
        "* Está escrita en C, por lo que es más eficiente en el almacenamiento de datos.\n",
        "* Tiene una implementación de arreglos muy poderosa, de carácter multidimensional.\n",
        "* Engloba funciones de álgebra lineal, transformada de Fourier, etc.\n",
        "\n",
        "# Arreglos (*arrays*) de NumPy\n",
        "\n",
        "* Los arrays son estructuras de datos **ordenadas**, de **cantidad fija de elementos** y un tipo de **dato uniforme**. <!-Por ejemplo, si pongo un numero y una palabra, los va a poner a ambos como string para que tengan el mismo formato->\n",
        "* Son los equivalentes a las matrices y los vectores en álgebra, por lo que se les puede aplicar operaciones.\n",
        "* Por su implementación, son **más eficientes** que otras estructuras de datos nativas de Python. El código, además, es más conciso.\n"
      ]
    },
    {
      "cell_type": "code",
      "metadata": {
        "id": "HELHHsH53nZx"
      },
      "source": [
        "#Se debe importar la biblioteca NumPy\n",
        "#Por covención se usa el alias np\n",
        "import numpy as np"
      ],
      "execution_count": null,
      "outputs": []
    },
    {
      "cell_type": "code",
      "metadata": {
        "id": "kvm5mjxwnUtS"
      },
      "source": [
        "#Con el signo de ? podemos consultar la documentación de NumPy\n",
        "?np"
      ],
      "execution_count": null,
      "outputs": []
    },
    {
      "cell_type": "markdown",
      "metadata": {
        "id": "USBKrY9kqjSg"
      },
      "source": [
        "## ¿Por qué se dice que es más conciso y eficiente?"
      ]
    },
    {
      "cell_type": "code",
      "metadata": {
        "id": "orQfovtS3uiA"
      },
      "source": [
        "array = np.arange(1e6) #Creamos un arreglo de 1 millón de elementos\n",
        "\n",
        "lista = list(array) #Lo convertimos en una lista\n",
        "      #Se creo una lista con el mismo numero de elementos que el arreglo.\n",
        "\n",
        "#Medimos el tiempo de 10 loops ejecutados 5 veces\n",
        "\n",
        "%timeit -n10 y = [val*5 for val in lista] #List comprehension, multiplicar por 5 cada valor\n",
        "\n",
        "%timeit -n10 y = array*5\n",
        "\n",
        "#Con el resultado se ve que trabajar con un arreglo me dura menos tiempo realizar la operacion. Es un codigo mas conciso y eficiente."
      ],
      "execution_count": null,
      "outputs": []
    },
    {
      "cell_type": "markdown",
      "metadata": {
        "id": "QajI0G8y47NE"
      },
      "source": [
        "## Creación de arreglos\n",
        "\n",
        "Varias funciones sirven para crear arreglos de NumPy, entre ellas las siguientes:\n",
        "\n",
        "| Función | Resultado |\n",
        "| :---: | :---: |\n",
        "| array() | Crea un arreglo con los datos especificados como estructuras de datos|\n",
        "| empty() | Crea un arreglo vacío, con datos \"basura\"|\n",
        "| zeros() | Crea un arreglo de ceros|\n",
        "|ones() | Crea un arreglo de unos|\n",
        "| full() | Crea un arreglo lleno del valor especificado|\n",
        "| arange() | Crea un arreglo de valores indicando un valor inicial, un final y un step|\n",
        "| linspace() | Crea un arreglo de valores indicando un valor inicial, un final y una cantidad deseada|\n",
        "| logspace() |Crea un arreglo de valores con espaciado logarítmico|\n",
        "| geomspace() |Crea un arreglo de valores con espaciado logarítmico en una progresión geométrica|\n",
        "| random() | Crea una matriz de números entre 0.0 y 1.0|\n",
        "\n"
      ]
    },
    {
      "cell_type": "code",
      "metadata": {
        "id": "o-ibktEW5jIM",
        "colab": {
          "base_uri": "https://localhost:8080/"
        },
        "outputId": "2e44b52e-9c2f-4ff9-bef8-f027fd2195cb"
      },
      "source": [
        "arr = np.array([1,2,3]) #Array de dimensiones 1x3 filasxcolumnas, con esos valores.\n",
        "arr"
      ],
      "execution_count": null,
      "outputs": [
        {
          "output_type": "execute_result",
          "data": {
            "text/plain": [
              "array([1, 2, 3])"
            ]
          },
          "metadata": {},
          "execution_count": 8
        }
      ]
    },
    {
      "cell_type": "code",
      "source": [
        "print(arr) #Se ve que es un arreglo porque esta separado con espacios. En las listas habria comas de division"
      ],
      "metadata": {
        "colab": {
          "base_uri": "https://localhost:8080/"
        },
        "id": "XSxrRta534mh",
        "outputId": "85a8669e-d703-4205-9571-a40e9455b931"
      },
      "execution_count": null,
      "outputs": [
        {
          "output_type": "stream",
          "name": "stdout",
          "text": [
            "[1 2 3]\n"
          ]
        }
      ]
    },
    {
      "cell_type": "code",
      "source": [
        "np.array([[1],[2],[3]]) #Array de dimensiones 3x1"
      ],
      "metadata": {
        "id": "Y7LocKMvIVXc",
        "colab": {
          "base_uri": "https://localhost:8080/"
        },
        "outputId": "4b6f104a-fb86-4ab6-e5fe-2b1feb91d5e9"
      },
      "execution_count": null,
      "outputs": [
        {
          "output_type": "execute_result",
          "data": {
            "text/plain": [
              "array([[1],\n",
              "       [2],\n",
              "       [3]])"
            ]
          },
          "metadata": {},
          "execution_count": 9
        }
      ]
    },
    {
      "cell_type": "code",
      "source": [
        "np.array([[1,2],[3,4]]) #Matrix 2x2"
      ],
      "metadata": {
        "id": "4QniZkIIIRxk",
        "colab": {
          "base_uri": "https://localhost:8080/"
        },
        "outputId": "5010cddf-29c1-4fad-8f2d-b7517b2f3f7c"
      },
      "execution_count": null,
      "outputs": [
        {
          "output_type": "execute_result",
          "data": {
            "text/plain": [
              "array([[1, 2],\n",
              "       [3, 4]])"
            ]
          },
          "metadata": {},
          "execution_count": 10
        }
      ]
    },
    {
      "cell_type": "code",
      "source": [
        "np.random.random([2,2]) #Aqui defino las filas y columnas para colocar numeros al azar entre 0 y 1."
      ],
      "metadata": {
        "id": "goCA7HgRIQb8",
        "colab": {
          "base_uri": "https://localhost:8080/"
        },
        "outputId": "5963d2a3-86c2-47f1-f8a0-7bbd28e3bd41"
      },
      "execution_count": null,
      "outputs": [
        {
          "output_type": "execute_result",
          "data": {
            "text/plain": [
              "array([[0.14001515, 0.94841862],\n",
              "       [0.04245627, 0.23352044]])"
            ]
          },
          "metadata": {},
          "execution_count": 11
        }
      ]
    },
    {
      "cell_type": "markdown",
      "metadata": {
        "id": "FDd0RgDk5nyU"
      },
      "source": [
        "* Observe que los arreglos se encierran entre **[]**, pero que al imprimir sus valores no están separados por comas como en las listas.\n",
        "* Las dimensiones siempre se indican como **filas x columnas**.\n",
        "\n",
        "### Crear arreglos con distintos valores iniciales"
      ]
    },
    {
      "cell_type": "code",
      "metadata": {
        "id": "9h22GxN_5tjr",
        "colab": {
          "base_uri": "https://localhost:8080/"
        },
        "outputId": "99bc1476-31fb-4f13-edb9-a9b565e5c30f"
      },
      "source": [
        "arr1 = np.empty([3,4]) # Se indican [numero de filas, numero de columnas]\n",
        "                        #Crea un arreglo con datos basura, no necesariamente 0.\n",
        "print(arr1,'\\n') \n",
        "\n",
        "arr1.fill(3) #Con esto puedo llenar el arreglo de un valor que yo elija.\n",
        "arr1"
      ],
      "execution_count": null,
      "outputs": [
        {
          "output_type": "stream",
          "name": "stdout",
          "text": [
            "[[1.4053741e-316 0.0000000e+000 0.0000000e+000 0.0000000e+000]\n",
            " [0.0000000e+000 0.0000000e+000 0.0000000e+000 0.0000000e+000]\n",
            " [0.0000000e+000 0.0000000e+000 0.0000000e+000 0.0000000e+000]] \n",
            "\n"
          ]
        },
        {
          "output_type": "execute_result",
          "data": {
            "text/plain": [
              "array([[3., 3., 3., 3.],\n",
              "       [3., 3., 3., 3.],\n",
              "       [3., 3., 3., 3.]])"
            ]
          },
          "metadata": {},
          "execution_count": 12
        }
      ]
    },
    {
      "cell_type": "code",
      "source": [
        "np.ones([5])# Si se indica solo un número, supondrá que son columnas\n",
        "              #Aqui 5 es el numero de columnas."
      ],
      "metadata": {
        "id": "rbhFxMJvINSt",
        "colab": {
          "base_uri": "https://localhost:8080/"
        },
        "outputId": "6053cb29-0ef6-4bac-e8ea-cb0e35e161c1"
      },
      "execution_count": null,
      "outputs": [
        {
          "output_type": "execute_result",
          "data": {
            "text/plain": [
              "array([1., 1., 1., 1., 1.])"
            ]
          },
          "metadata": {},
          "execution_count": 13
        }
      ]
    },
    {
      "cell_type": "code",
      "source": [
        "np.zeros([5]) #Inicializa los valores en cero, es menos eficiente que empty porque sí inicializa\n",
        "              #Aqui 5 es el numero de columnas."
      ],
      "metadata": {
        "colab": {
          "base_uri": "https://localhost:8080/"
        },
        "id": "yb4-qtU25HEP",
        "outputId": "863fc842-1b18-46a4-ed34-e79a3667677f"
      },
      "execution_count": null,
      "outputs": [
        {
          "output_type": "execute_result",
          "data": {
            "text/plain": [
              "array([0., 0., 0., 0., 0.])"
            ]
          },
          "metadata": {},
          "execution_count": 14
        }
      ]
    },
    {
      "cell_type": "code",
      "source": [
        "np.full([2,2],np.inf) # Crea una matriz rellena de \"infinito\"\n",
        "                      #np.inf, simula infinito, ya que no hay infinito en una computadora."
      ],
      "metadata": {
        "id": "sB3DWmIhI0as",
        "colab": {
          "base_uri": "https://localhost:8080/"
        },
        "outputId": "93ed7681-a727-4041-e7c5-04e3a349e85b"
      },
      "execution_count": null,
      "outputs": [
        {
          "output_type": "execute_result",
          "data": {
            "text/plain": [
              "array([[inf, inf],\n",
              "       [inf, inf]])"
            ]
          },
          "metadata": {},
          "execution_count": 15
        }
      ]
    },
    {
      "cell_type": "markdown",
      "metadata": {
        "id": "_XeuOx2j6NW8"
      },
      "source": [
        "### Arreglos con secuencias incrementales"
      ]
    },
    {
      "cell_type": "code",
      "metadata": {
        "id": "7nNlee5a6QFE",
        "colab": {
          "base_uri": "https://localhost:8080/"
        },
        "outputId": "3f5e4c03-3e85-46f5-b48e-40a55091fe57"
      },
      "source": [
        "#El tercer argumento de arange representa el incremento deseado o step\n",
        "arr2 = np.arange(0,10,1.5) #Arreglo entre 0 y 10 (sin 10), con valores cada 1.5\n",
        "arr2"
      ],
      "execution_count": null,
      "outputs": [
        {
          "output_type": "execute_result",
          "data": {
            "text/plain": [
              "array([0. , 1.5, 3. , 4.5, 6. , 7.5, 9. ])"
            ]
          },
          "metadata": {},
          "execution_count": 16
        }
      ]
    },
    {
      "cell_type": "code",
      "source": [
        "#El tercer argumento de linspace representa la cantidad de datos deseados en el arreglo\n",
        "arr3 = np.linspace(0,10,11) #Arreglo entre 0 y 10 (con 10), con 11 valores\n",
        "arr3"
      ],
      "metadata": {
        "id": "VGkq69SIrWZc",
        "colab": {
          "base_uri": "https://localhost:8080/"
        },
        "outputId": "8686ee87-0828-4e76-d293-b90d4b34cf90"
      },
      "execution_count": null,
      "outputs": [
        {
          "output_type": "execute_result",
          "data": {
            "text/plain": [
              "array([ 0.,  1.,  2.,  3.,  4.,  5.,  6.,  7.,  8.,  9., 10.])"
            ]
          },
          "metadata": {},
          "execution_count": 17
        }
      ]
    },
    {
      "cell_type": "markdown",
      "metadata": {
        "id": "WJdOXFdv6U50"
      },
      "source": [
        "### Arreglos matriciales\n",
        "\n",
        "Con las funciones anteriores se pueden crear matrices, pero existen también funciones para crear matrices con características específicas.\n",
        "\n",
        "| Comando | Resultado |\n",
        "| :---: | :---: |\n",
        "| identity() | Crea una matriz identidad|\n",
        "| eye() |Crea una matriz con unos en una diagonal (offset)|\n",
        "| diag() |Crea una matriz con un arreglo arbitrario en la diagonal|\n"
      ]
    },
    {
      "cell_type": "code",
      "metadata": {
        "id": "Kl1wmT7V6WzT",
        "colab": {
          "base_uri": "https://localhost:8080/"
        },
        "outputId": "4fb47d07-1d53-4908-f681-62d0c2f78425"
      },
      "source": [
        "identidad = np.identity(4) #Crea una matriz identidad, las cuales son matrices cuadradas, o sea mismo numero de filas y columnas.\n",
        "identidad"
      ],
      "execution_count": null,
      "outputs": [
        {
          "output_type": "execute_result",
          "data": {
            "text/plain": [
              "array([[1., 0., 0., 0.],\n",
              "       [0., 1., 0., 0.],\n",
              "       [0., 0., 1., 0.],\n",
              "       [0., 0., 0., 1.]])"
            ]
          },
          "metadata": {},
          "execution_count": 18
        }
      ]
    },
    {
      "cell_type": "code",
      "source": [
        "offset = np.eye(4, k=1) \n",
        "offset"
      ],
      "metadata": {
        "id": "oCEoQUIErgCb",
        "colab": {
          "base_uri": "https://localhost:8080/"
        },
        "outputId": "14c718a3-770e-4bee-e176-635d311055db"
      },
      "execution_count": null,
      "outputs": [
        {
          "output_type": "execute_result",
          "data": {
            "text/plain": [
              "array([[0., 1., 0., 0.],\n",
              "       [0., 0., 1., 0.],\n",
              "       [0., 0., 0., 1.],\n",
              "       [0., 0., 0., 0.]])"
            ]
          },
          "metadata": {},
          "execution_count": 19
        }
      ]
    },
    {
      "cell_type": "code",
      "source": [
        "diagonal = np.diag(np.arange(1,5,1)) #Matriz con valores en la diagonal que van de 1 a 5, espaciados de 1 en 1.\n",
        "diagonal"
      ],
      "metadata": {
        "id": "L74PlLcLrjqb",
        "colab": {
          "base_uri": "https://localhost:8080/"
        },
        "outputId": "e684c635-a70f-4cc0-a5d8-3529ddba30e5"
      },
      "execution_count": null,
      "outputs": [
        {
          "output_type": "execute_result",
          "data": {
            "text/plain": [
              "array([[1, 0, 0, 0],\n",
              "       [0, 2, 0, 0],\n",
              "       [0, 0, 3, 0],\n",
              "       [0, 0, 0, 4]])"
            ]
          },
          "metadata": {},
          "execution_count": 20
        }
      ]
    },
    {
      "cell_type": "markdown",
      "metadata": {
        "id": "HIA5cAXy6rz8"
      },
      "source": [
        "### *List comprehension* y creación de arreglos\n",
        "\n",
        "Se puede crear un arreglo a partir de listas directamente obtenidas de *list comprehension*."
      ]
    },
    {
      "cell_type": "code",
      "metadata": {
        "id": "hKpIvkTr6vHL"
      },
      "source": [
        "a = [4.54,844,0.23]\n",
        "np.array([i**2 for i in a])"
      ],
      "execution_count": null,
      "outputs": []
    },
    {
      "cell_type": "markdown",
      "metadata": {
        "id": "VYMVrH716zvU"
      },
      "source": [
        "## Comandos útiles para trabajar con arreglos de NumPy\n",
        "\n",
        "Los arreglos de NumPy están acompañados de varias funciones y atributos que permiten manipularlos.\n",
        "\n",
        "| Comando | Resultado |\n",
        "| :---: | :---: |\n",
        "| shape | Retorna una tupla con el número de elementos por dimensión|\n",
        "| ndim | Dice el número de dimensiones|\n",
        "| size | Dice cuántos elementos hay en un arreglo|\n",
        "| dtype | Dice el tipo de datos que guarda un arreglo|\n",
        "| T | Retorna la transpuesta de un arreglo|\n",
        "|flatten() | Retorna el arreglo colapsado en una dimensión|\n",
        "| fill() | Rellena el arreglo con el valor especificado|\n",
        "| reshape() | Retorna un arreglo con el shape especificado|\n",
        "| resize() | Cambia el tamaño y shape del arreglo|\n",
        "| where() | Retorna los índices donde se cumplen las condiciones dadas|"
      ]
    },
    {
      "cell_type": "code",
      "metadata": {
        "id": "IMPxVAjU_v90"
      },
      "source": [
        "arr = np.array([1,2,3]) #Array de dimension 1x3\n",
        "arr"
      ],
      "execution_count": null,
      "outputs": []
    },
    {
      "cell_type": "code",
      "source": [
        "arr.reshape([3,1]) #Otra forma de crear un array 3x1\n",
        "                  #reshape es un metodo, por eso tiene parentesis.\n",
        "                  #arr es el objeto."
      ],
      "metadata": {
        "id": "vBGwRVKSL6Al"
      },
      "execution_count": null,
      "outputs": []
    },
    {
      "cell_type": "markdown",
      "metadata": {
        "id": "xkUf_s_7CE4C"
      },
      "source": [
        "Algunas de estas funciones son muy útiles para entender las características de los objetos con los que estamos trabajando."
      ]
    },
    {
      "cell_type": "code",
      "metadata": {
        "id": "M0MVWUO_7YF3",
        "colab": {
          "base_uri": "https://localhost:8080/"
        },
        "outputId": "9e834d44-d862-424e-90bd-585b3701dc93"
      },
      "source": [
        "ident = np.identity(3) #Creando una matriz identidad de 3x3\n",
        "\n",
        "print('Matriz: \\n',ident,'\\n')\n",
        "print('Número de elementos: ',ident.size,'\\n') # size es un atributo, no tiene parentesis por lo cual se identifica.\n",
        "print('Forma (filas,columnas): ',ident.shape, '\\n')\n",
        "print('Cantidad de dimensiones: ', ident.ndim)"
      ],
      "execution_count": null,
      "outputs": [
        {
          "output_type": "stream",
          "name": "stdout",
          "text": [
            "Matriz: \n",
            " [[1. 0. 0.]\n",
            " [0. 1. 0.]\n",
            " [0. 0. 1.]] \n",
            "\n",
            "Número de elementos:  9 \n",
            "\n",
            "Forma (filas,columnas):  (3, 3) \n",
            "\n",
            "Cantidad de dimensiones:  2\n"
          ]
        }
      ]
    },
    {
      "cell_type": "markdown",
      "metadata": {
        "id": "Vi7dbd06ECoZ"
      },
      "source": [
        "Otras nos permiten modificar la estructura del arreglo."
      ]
    },
    {
      "cell_type": "code",
      "metadata": {
        "id": "0vB-u9xaApGj",
        "colab": {
          "base_uri": "https://localhost:8080/"
        },
        "outputId": "ed6b3cea-885a-453c-b1d7-2a0d02ce9aa7"
      },
      "source": [
        "print(arr1)"
      ],
      "execution_count": null,
      "outputs": [
        {
          "output_type": "stream",
          "name": "stdout",
          "text": [
            "[[3. 3. 3. 3.]\n",
            " [3. 3. 3. 3.]\n",
            " [3. 3. 3. 3.]]\n"
          ]
        }
      ]
    },
    {
      "cell_type": "code",
      "metadata": {
        "id": "ESNvQolRDtMq",
        "colab": {
          "base_uri": "https://localhost:8080/"
        },
        "outputId": "71728815-36b1-4d4b-aa52-d2cd719793e6"
      },
      "source": [
        "np.resize(arr1,(7,2)) #Corta o agrega elementos según el tamaño especificado"
      ],
      "execution_count": null,
      "outputs": [
        {
          "output_type": "execute_result",
          "data": {
            "text/plain": [
              "array([[3., 3.],\n",
              "       [3., 3.],\n",
              "       [3., 3.],\n",
              "       [3., 3.],\n",
              "       [3., 3.],\n",
              "       [3., 3.],\n",
              "       [3., 3.]])"
            ]
          },
          "metadata": {},
          "execution_count": 23
        }
      ]
    },
    {
      "cell_type": "code",
      "source": [
        "arr1 #resize() no modifica el arreglo original. Deja el arreglo original como esta."
      ],
      "metadata": {
        "id": "2uy7Yi3xNwBy",
        "colab": {
          "base_uri": "https://localhost:8080/"
        },
        "outputId": "2dfba870-5d22-40bf-a623-c955ecd8e288"
      },
      "execution_count": null,
      "outputs": [
        {
          "output_type": "execute_result",
          "data": {
            "text/plain": [
              "array([[3., 3., 3., 3.],\n",
              "       [3., 3., 3., 3.],\n",
              "       [3., 3., 3., 3.]])"
            ]
          },
          "metadata": {},
          "execution_count": 24
        }
      ]
    },
    {
      "cell_type": "markdown",
      "metadata": {
        "id": "U9EsdqNhEG7R"
      },
      "source": [
        "Se pueden hacer operaciones sofisticadas como la búsqueda en arreglos según ciertas condiciones y la aplicación de operaciones sobre los elementos que cumplen la condición."
      ]
    },
    {
      "cell_type": "code",
      "source": [
        "original = np.linspace(-5,5,11)\n",
        "original"
      ],
      "metadata": {
        "id": "yGnaaIhcN3mB",
        "colab": {
          "base_uri": "https://localhost:8080/"
        },
        "outputId": "d4f0d7a7-692a-4ecf-8512-ed6b9064f9d2"
      },
      "execution_count": null,
      "outputs": [
        {
          "output_type": "execute_result",
          "data": {
            "text/plain": [
              "array([-5., -4., -3., -2., -1.,  0.,  1.,  2.,  3.,  4.,  5.])"
            ]
          },
          "metadata": {},
          "execution_count": 18
        }
      ]
    },
    {
      "cell_type": "code",
      "source": [
        "np.where(original < 0) #Retorna los índices/posiciones donde los valores son menores a cero"
      ],
      "metadata": {
        "id": "WkG6XICLN9cx",
        "colab": {
          "base_uri": "https://localhost:8080/"
        },
        "outputId": "f4a3db61-c49c-4902-aa1e-1ff0530f9a59"
      },
      "execution_count": null,
      "outputs": [
        {
          "output_type": "execute_result",
          "data": {
            "text/plain": [
              "(array([0, 1, 2, 3, 4]),)"
            ]
          },
          "metadata": {},
          "execution_count": 17
        }
      ]
    },
    {
      "cell_type": "code",
      "source": [
        "np.where(original <= 0) #Retorna los índices/posiciones donde los valores son menores o iguales a cero"
      ],
      "metadata": {
        "colab": {
          "base_uri": "https://localhost:8080/"
        },
        "id": "_b7G0eWL8Gq5",
        "outputId": "614fd0e7-c05c-4397-b880-075e4562f2ea"
      },
      "execution_count": null,
      "outputs": [
        {
          "output_type": "execute_result",
          "data": {
            "text/plain": [
              "(array([0, 1, 2, 3, 4, 5]),)"
            ]
          },
          "metadata": {},
          "execution_count": 27
        }
      ]
    },
    {
      "cell_type": "code",
      "metadata": {
        "id": "IdC6ymM98Uds",
        "colab": {
          "base_uri": "https://localhost:8080/",
          "height": 200
        },
        "outputId": "8638d4a7-7eec-4574-8d07-9037027fe385"
      },
      "source": [
        "#Para los números que cumplen la condición calculamos el cuadrado, para los otros el cubo. (condicion, para los que cumplen, para los que no cumplen)\n",
        "\n",
        "np.where(original < 0, original**2, original**3)"
      ],
      "execution_count": null,
      "outputs": [
        {
          "output_type": "error",
          "ename": "NameError",
          "evalue": "ignored",
          "traceback": [
            "\u001b[0;31m---------------------------------------------------------------------------\u001b[0m",
            "\u001b[0;31mNameError\u001b[0m                                 Traceback (most recent call last)",
            "\u001b[0;32m<ipython-input-11-2e68fd6e3d9b>\u001b[0m in \u001b[0;36m<module>\u001b[0;34m()\u001b[0m\n\u001b[1;32m      1\u001b[0m \u001b[0;31m#Para los números que cumplen la condición calculamos el cuadrado, para los otros el cubo. (condicion, para los que cumplen, para los que no cumplen)\u001b[0m\u001b[0;34m\u001b[0m\u001b[0;34m\u001b[0m\u001b[0;34m\u001b[0m\u001b[0m\n\u001b[1;32m      2\u001b[0m \u001b[0;34m\u001b[0m\u001b[0m\n\u001b[0;32m----> 3\u001b[0;31m \u001b[0mnp\u001b[0m\u001b[0;34m.\u001b[0m\u001b[0mwhere\u001b[0m\u001b[0;34m(\u001b[0m\u001b[0moriginal\u001b[0m \u001b[0;34m<\u001b[0m \u001b[0;36m0\u001b[0m\u001b[0;34m,\u001b[0m \u001b[0moriginal\u001b[0m\u001b[0;34m**\u001b[0m\u001b[0;36m2\u001b[0m\u001b[0;34m,\u001b[0m \u001b[0moriginal\u001b[0m\u001b[0;34m**\u001b[0m\u001b[0;36m3\u001b[0m\u001b[0;34m)\u001b[0m\u001b[0;34m\u001b[0m\u001b[0;34m\u001b[0m\u001b[0m\n\u001b[0m",
            "\u001b[0;31mNameError\u001b[0m: name 'original' is not defined"
          ]
        }
      ]
    },
    {
      "cell_type": "code",
      "source": [
        "#Tal vez solamente necesitamos calcular el cuadrado de los que cumplen\n",
        "\n",
        "np.where(original < 0, original**2, original)"
      ],
      "metadata": {
        "id": "RmKQgS-BOaEJ",
        "colab": {
          "base_uri": "https://localhost:8080/"
        },
        "outputId": "fb3bae81-f648-415f-8368-3aa15421ed8c"
      },
      "execution_count": null,
      "outputs": [
        {
          "output_type": "execute_result",
          "data": {
            "text/plain": [
              "array([25., 16.,  9.,  4.,  1.,  0.,  1.,  2.,  3.,  4.,  5.])"
            ]
          },
          "metadata": {},
          "execution_count": 65
        }
      ]
    },
    {
      "cell_type": "markdown",
      "metadata": {
        "id": "lmJNfDYZo9ib"
      },
      "source": [
        "## <font color='purple'>**Ejercicio**</font>\n",
        "\n",
        "Suponga que usted quiere graficar los valores de un modelo que depende de dos variables $X$ y $Y$ usando Python. Para ello, usted desea generar los valores de entrada de $X$ y de $Y$  **en dos columnas separadas de un solo arreglo**, considerando lo siguiente:\n",
        "\n",
        "* El modelo es válido para $300 \\leq X \\leq 540$ y $300 \\leq Y \\leq 540$.\n",
        "* Usted sabe que necesita 100 valores o más de ambas variables para obtener una buena resolución en la respuesta del modelo.\n",
        "\n",
        "¿De qué forma podría crear este arreglo?\n"
      ]
    },
    {
      "cell_type": "code",
      "source": [
        "#Hay que construir un arreglo que tenga dos columnas, una de X y otra de Y.\n",
        "#Dichos valores deben estar entre esos limites, X no depende de Y, ni viceversa.\n",
        "\n",
        "import numpy as np\n",
        "\n",
        "Min, Max = 300, 540 #Establezco el valor minimo y el maximo \n",
        "rango = (Max - Min) #Obtengo el rango de datos dentro de esos limites\n",
        "modelo = np.random.random([100,2]) * rango + Min #Hago un arreglo que tenga 100 filas y 2 columnas, lo multiplico por el rango obtenido (240 en este caso), por lo que en este punto los valores\n",
        "                                                        # irian de 0 a 240, y le sumo el valor minimo (300), haciendo que los valores vayan de 300 a 540.\n",
        "print(modelo)\n",
        "\n",
        "#Otra solucion encontrada en internet.\n",
        "# rand_arr = np.random.randint(low=300, high=540, size=(100, 2)) #Esta es otra forma de hacerlo pero con numeros enteros.\n",
        "# print(rand_arr)\n",
        "\n",
        "#Solucion de la instructora:\n",
        "#entradas = np.linspace(300, 540, 200).reshape([100,2])\n",
        "#print(entradas)"
      ],
      "metadata": {
        "colab": {
          "base_uri": "https://localhost:8080/"
        },
        "id": "sb2i8i04B0Jo",
        "outputId": "04f23636-090d-442c-99f1-bc3f0f214950"
      },
      "execution_count": 2,
      "outputs": [
        {
          "output_type": "stream",
          "name": "stdout",
          "text": [
            "[[512.48539233 494.44662364]\n",
            " [429.81603623 338.34784019]\n",
            " [374.9801199  346.47318161]\n",
            " [483.87700241 351.27471101]\n",
            " [476.8190723  407.51159211]\n",
            " [362.14740546 382.89600799]\n",
            " [470.11904433 407.8269746 ]\n",
            " [303.38141244 384.35499311]\n",
            " [470.80809571 512.15689583]\n",
            " [326.96913876 430.23917288]\n",
            " [423.85193386 401.17086089]\n",
            " [424.60311519 521.77725995]\n",
            " [325.35001978 446.83306063]\n",
            " [328.54826176 411.26643585]\n",
            " [525.48035378 504.36778112]\n",
            " [469.32648752 311.38084432]\n",
            " [469.4249733  408.27454238]\n",
            " [457.94338017 531.98934685]\n",
            " [502.26591245 401.43904254]\n",
            " [442.19854407 349.16128036]\n",
            " [440.62636811 506.93634155]\n",
            " [485.29705728 456.77715856]\n",
            " [456.50339403 435.90214072]\n",
            " [531.19964685 489.26957232]\n",
            " [420.3123419  510.21716332]\n",
            " [387.36094432 319.36606604]\n",
            " [472.37635352 415.59553732]\n",
            " [431.93534355 445.92593578]\n",
            " [386.08692325 466.93392271]\n",
            " [538.8791464  483.66081592]\n",
            " [315.90685388 341.18146129]\n",
            " [468.97419302 446.26794797]\n",
            " [460.74219626 520.02564762]\n",
            " [506.46305303 349.51048309]\n",
            " [308.29486065 532.29614886]\n",
            " [420.12469075 533.53565914]\n",
            " [473.06950155 379.44020684]\n",
            " [474.27812154 406.71342574]\n",
            " [387.67921644 408.06916253]\n",
            " [509.75992259 373.32942521]\n",
            " [446.65745774 349.77907853]\n",
            " [340.75955836 442.68729969]\n",
            " [455.68338257 345.95290765]\n",
            " [504.34065322 484.78952378]\n",
            " [473.40506185 401.01795314]\n",
            " [415.80515398 317.23459378]\n",
            " [391.41571108 462.66761742]\n",
            " [333.42675071 320.79953704]\n",
            " [440.48676722 410.78132778]\n",
            " [414.99041466 451.45884063]\n",
            " [345.09141483 316.68301351]\n",
            " [387.92511961 307.37115075]\n",
            " [306.45164222 498.05977494]\n",
            " [476.18009911 304.13974851]\n",
            " [357.10266308 430.9880894 ]\n",
            " [511.81472068 457.83724679]\n",
            " [510.07949239 347.01579719]\n",
            " [313.41906173 483.66498865]\n",
            " [525.17426756 479.32099809]\n",
            " [510.66028285 367.5393145 ]\n",
            " [347.12700619 304.11887661]\n",
            " [492.44774738 470.93829075]\n",
            " [396.97459688 514.00702403]\n",
            " [504.29696511 308.20990847]\n",
            " [420.13542259 314.26631878]\n",
            " [420.39208345 456.9378156 ]\n",
            " [457.80364018 316.59339439]\n",
            " [474.6671076  322.81626822]\n",
            " [301.50423053 527.70342497]\n",
            " [450.09425839 506.26453708]\n",
            " [473.12678341 350.63880594]\n",
            " [332.68298815 482.2371088 ]\n",
            " [396.12536299 317.40164489]\n",
            " [308.45230955 458.28909472]\n",
            " [490.86512263 356.81283702]\n",
            " [406.36397551 351.02741774]\n",
            " [328.07121431 519.86223846]\n",
            " [337.72064395 375.13270019]\n",
            " [336.8331572  363.62646725]\n",
            " [514.12914857 322.25465782]\n",
            " [398.21149215 491.31910918]\n",
            " [351.19162289 342.40112647]\n",
            " [415.88107301 312.07592359]\n",
            " [304.52440641 507.8514354 ]\n",
            " [376.34057491 344.36451016]\n",
            " [336.41324009 528.16246948]\n",
            " [505.83617044 431.67724441]\n",
            " [535.9642375  325.08459631]\n",
            " [497.78711867 477.98536777]\n",
            " [500.14693138 311.81542066]\n",
            " [327.97196241 420.42201574]\n",
            " [400.2421595  476.06133931]\n",
            " [455.72324168 410.98906072]\n",
            " [485.22724705 404.036451  ]\n",
            " [527.73876909 333.95678385]\n",
            " [494.64492734 483.76530649]\n",
            " [374.73170878 475.51235154]\n",
            " [356.42139117 509.81841079]\n",
            " [500.18674358 340.32843458]\n",
            " [315.07789993 429.89655091]]\n"
          ]
        }
      ]
    },
    {
      "cell_type": "markdown",
      "metadata": {
        "id": "Rg--ARE_8dt0"
      },
      "source": [
        "## Operaciones con arreglos de NumPy\n",
        "\n",
        "* Se pueden hacer operaciones tanto con escalares como entre matrices y vectores.\n",
        "* Estas operaciones se realizan según las reglas de álgebra lineal."
      ]
    },
    {
      "cell_type": "code",
      "metadata": {
        "id": "K-4Tv9DBLLdl",
        "colab": {
          "base_uri": "https://localhost:8080/"
        },
        "outputId": "d117bd3c-83f6-48fa-df63-01cfe134697d"
      },
      "source": [
        "arr = np.array([[1,2],[3,4]])\n",
        "\n",
        "print(arr*2, '\\n\\n', arr/2, '\\n\\n', arr-10,'\\n\\n', arr+5, '\\n') #Elemento por elemento"
      ],
      "execution_count": null,
      "outputs": [
        {
          "output_type": "stream",
          "name": "stdout",
          "text": [
            "[[2 4]\n",
            " [6 8]] \n",
            "\n",
            " [[0.5 1. ]\n",
            " [1.5 2. ]] \n",
            "\n",
            " [[-9 -8]\n",
            " [-7 -6]] \n",
            "\n",
            " [[6 7]\n",
            " [8 9]] \n",
            "\n"
          ]
        }
      ]
    },
    {
      "cell_type": "code",
      "metadata": {
        "id": "HosH2r6t8q_r",
        "colab": {
          "base_uri": "https://localhost:8080/"
        },
        "outputId": "7f4ed228-4c36-4b2b-c030-0345e588f0f7"
      },
      "source": [
        "arr * np.full([2,2],2) # Multiplicación de arreglos"
      ],
      "execution_count": null,
      "outputs": [
        {
          "output_type": "execute_result",
          "data": {
            "text/plain": [
              "array([[2, 4],\n",
              "       [6, 8]])"
            ]
          },
          "metadata": {},
          "execution_count": 30
        }
      ]
    },
    {
      "cell_type": "code",
      "metadata": {
        "id": "avFdfjI0LeW8",
        "colab": {
          "base_uri": "https://localhost:8080/"
        },
        "outputId": "287530e5-fadb-47b8-8be8-d9ef6d2b88a5"
      },
      "source": [
        "arr.dot(np.identity(2)) # Multiplicación de matrices "
      ],
      "execution_count": null,
      "outputs": [
        {
          "output_type": "execute_result",
          "data": {
            "text/plain": [
              "array([[1., 2.],\n",
              "       [3., 4.]])"
            ]
          },
          "metadata": {},
          "execution_count": 31
        }
      ]
    },
    {
      "cell_type": "markdown",
      "metadata": {
        "id": "SkashJmKcYNK"
      },
      "source": [
        "## <font color='purple'> **Analicemos las funciones de NumPy vistas hasta ahora. ¿Cómo crearía un arreglo de elementos aleatorios tipo float entre 0 y 100?**</font>"
      ]
    },
    {
      "cell_type": "code",
      "source": [
        "np.random.random([4,4])\n",
        "\n",
        "np.random.random([4,4])*100 #Matriz 4x4 con numeros entre 0 y 100."
      ],
      "metadata": {
        "colab": {
          "base_uri": "https://localhost:8080/"
        },
        "id": "qxw2oQO19T6s",
        "outputId": "1b27add8-ca16-467d-a355-02da4764893c"
      },
      "execution_count": null,
      "outputs": [
        {
          "output_type": "execute_result",
          "data": {
            "text/plain": [
              "array([[21.13636617, 92.77738273,  4.40743644, 38.59305792],\n",
              "       [17.71196553,  1.98413838,  9.5974651 , 56.21357042],\n",
              "       [70.75915033, 43.91683828, 96.15414822, 38.31829561],\n",
              "       [11.74981138, 90.05373631, 16.59749777, 27.05533301]])"
            ]
          },
          "metadata": {},
          "execution_count": 33
        }
      ]
    },
    {
      "cell_type": "markdown",
      "metadata": {
        "id": "A6GE8pHz8vVc"
      },
      "source": [
        "### Operadores de reducción\n",
        "\n",
        "En general, son operaciones que tienen como objetivo reducir las dimensiones del arreglo. *Ejemplo*: Producto punto.\n",
        "\n",
        "| Comando | Resultado que retorna |\n",
        "|:----------:|:------------:|\n",
        "| argmax() | Índice donde ocurren los valores máximos |\n",
        "| min()    | Valor mínimo |\n",
        "| argmin() | Índice donde ocurren los valores mínimos |\n",
        "| conj()   | Conjugado complejo de todos los elementos |\\\n",
        "| round()  | Valor redondeado de cada elemento |\n",
        "| trace()  | Suma de las diagonales del arreglo |\n",
        "| sum()    | Suma del arreglo |\n",
        "| cumsum() | Suma acumulativa |\n",
        "| mean()   | Media aritmética |\n",
        "| var()    | Varianza|\n",
        "| std()    | Desviación estándar |\n",
        "| prod()   | Producto |\n",
        "| cumprod()| Producto acumulativo |\n"
      ]
    },
    {
      "cell_type": "code",
      "metadata": {
        "id": "_ANBIV0QbWCC",
        "colab": {
          "base_uri": "https://localhost:8080/"
        },
        "outputId": "eb9d88ff-db47-4a1a-c637-0877da8f13e7"
      },
      "source": [
        "a = np.array([[1,2,3,4], [5,6,7,8], [9,10,11,12]])\n",
        "a"
      ],
      "execution_count": null,
      "outputs": [
        {
          "output_type": "execute_result",
          "data": {
            "text/plain": [
              "array([[ 1,  2,  3,  4],\n",
              "       [ 5,  6,  7,  8],\n",
              "       [ 9, 10, 11, 12]])"
            ]
          },
          "metadata": {},
          "execution_count": 34
        }
      ]
    },
    {
      "cell_type": "code",
      "source": [
        "a.prod() #Producto de todos los elementos de un arreglo"
      ],
      "metadata": {
        "id": "5gl7tjuaQcv1",
        "colab": {
          "base_uri": "https://localhost:8080/"
        },
        "outputId": "1240fb07-c6e1-4304-f687-60779e1a7bc5"
      },
      "execution_count": null,
      "outputs": [
        {
          "output_type": "execute_result",
          "data": {
            "text/plain": [
              "479001600"
            ]
          },
          "metadata": {},
          "execution_count": 35
        }
      ]
    },
    {
      "cell_type": "code",
      "source": [
        "b = np.array([[1+2j,2+2j],[1-2j,5-12j]])\n",
        "b"
      ],
      "metadata": {
        "id": "dEYOzM7JQlY8",
        "colab": {
          "base_uri": "https://localhost:8080/"
        },
        "outputId": "bd2f5b68-90eb-427c-84a6-89f3b625ed1c"
      },
      "execution_count": null,
      "outputs": [
        {
          "output_type": "execute_result",
          "data": {
            "text/plain": [
              "array([[1. +2.j, 2. +2.j],\n",
              "       [1. -2.j, 5.-12.j]])"
            ]
          },
          "metadata": {},
          "execution_count": 36
        }
      ]
    },
    {
      "cell_type": "code",
      "metadata": {
        "id": "OkYep1lZbvIT",
        "colab": {
          "base_uri": "https://localhost:8080/"
        },
        "outputId": "6cabe842-1a45-4a5f-d9c5-96f3170f1674"
      },
      "source": [
        "b.conj() #Conjugado del complejo"
      ],
      "execution_count": null,
      "outputs": [
        {
          "output_type": "execute_result",
          "data": {
            "text/plain": [
              "array([[1. -2.j, 2. -2.j],\n",
              "       [1. +2.j, 5.+12.j]])"
            ]
          },
          "metadata": {},
          "execution_count": 37
        }
      ]
    },
    {
      "cell_type": "code",
      "metadata": {
        "id": "ycFlNZc49Ob7",
        "colab": {
          "base_uri": "https://localhost:8080/"
        },
        "outputId": "1cc535ea-fc61-4b31-eb88-7508e7d495d9"
      },
      "source": [
        "datos = np.array([402.23,384.60,384.21,409.58,374.42,402.06])\n",
        "\n",
        "#Estadísticos descriptivos\n",
        "\n",
        "print('Media: ', np.mean(datos))\n",
        "print('Desviación estándar: ',np.std(datos))  "
      ],
      "execution_count": null,
      "outputs": [
        {
          "output_type": "stream",
          "name": "stdout",
          "text": [
            "Media:  392.84999999999997\n",
            "Desviación estándar:  12.48384556136449\n"
          ]
        }
      ]
    },
    {
      "cell_type": "markdown",
      "metadata": {
        "id": "w-lnVyiv9jVs"
      },
      "source": [
        "## Indexación y slicing\n",
        "\n",
        "* Se puede acceder al índice o posición del elemento de un array con la sintaxis **[fila,columna]**.\n",
        "* El slicing se consigue con **[inicio:final:step,inicio:final:step]** en el orden **[filas,columnas]**."
      ]
    },
    {
      "cell_type": "code",
      "source": [
        "a[0] #Asi indexo, pero debo especificar fila y columna o más detalles porque es una matriz"
      ],
      "metadata": {
        "colab": {
          "base_uri": "https://localhost:8080/"
        },
        "id": "8UdClC5X-Dc1",
        "outputId": "c406bb91-9114-4fda-b9f7-d47eb00f8e26"
      },
      "execution_count": null,
      "outputs": [
        {
          "output_type": "execute_result",
          "data": {
            "text/plain": [
              "array([1, 2, 3, 4])"
            ]
          },
          "metadata": {},
          "execution_count": 49
        }
      ]
    },
    {
      "cell_type": "code",
      "metadata": {
        "id": "H4lYevbZ9t76",
        "colab": {
          "base_uri": "https://localhost:8080/"
        },
        "outputId": "a67dd1b4-fcfa-4f5a-9fa5-ad6ba3c2e8bc"
      },
      "source": [
        "print(a,'\\n')\n",
        "\n",
        "a[:2,1:3] # Condicion de fila, condicion de columna\n",
        "          # Hace slicing, en la condicion de fila indica quiere los elementos que van desde el inicio hasta la fila 2 (incluyendola).\n",
        "          # Hace slicing, en la condicion de columna indica que quiere los elementos que van mas adelante de la columna 1 (sin incluirla) y hasta la columna 3 (incluyendola)"
      ],
      "execution_count": null,
      "outputs": [
        {
          "output_type": "stream",
          "name": "stdout",
          "text": [
            "[[ 1  2  3  4]\n",
            " [ 5  6  7  8]\n",
            " [ 9 10 11 12]] \n",
            "\n"
          ]
        },
        {
          "output_type": "execute_result",
          "data": {
            "text/plain": [
              "array([[2, 3],\n",
              "       [6, 7]])"
            ]
          },
          "metadata": {},
          "execution_count": 50
        }
      ]
    },
    {
      "cell_type": "markdown",
      "metadata": {
        "id": "TVn5O-MvgYMp"
      },
      "source": [
        "¡Cuidado! Al hacer *slicing*, no se copian los datos subyacentes."
      ]
    },
    {
      "cell_type": "code",
      "metadata": {
        "id": "WfMwM_3I9wca"
      },
      "source": [
        "original = np.array([1,2,3])\n",
        "original"
      ],
      "execution_count": null,
      "outputs": []
    },
    {
      "cell_type": "code",
      "metadata": {
        "id": "p1PHff6U93c6"
      },
      "source": [
        "trozo = original[:2]\n",
        "trozo"
      ],
      "execution_count": null,
      "outputs": []
    },
    {
      "cell_type": "code",
      "metadata": {
        "id": "QyaWoDoZ95TS"
      },
      "source": [
        "trozo[0] = 9\n",
        "trozo"
      ],
      "execution_count": null,
      "outputs": []
    },
    {
      "cell_type": "code",
      "metadata": {
        "id": "WkK9POqs99FK"
      },
      "source": [
        "original #¡Cambiamos el arreglo original!"
      ],
      "execution_count": null,
      "outputs": []
    },
    {
      "cell_type": "markdown",
      "metadata": {
        "id": "M1jiyXDx-Dqb"
      },
      "source": [
        "## Manejo de archivos con NumPy\n",
        "\n",
        "* NumPy permite cargar datos de un archivo de texto con la función. Los datos se guardan en un array.\n",
        "* **loadtxt()** es una de las funciones más usadas.\n",
        "\n"
      ]
    },
    {
      "cell_type": "code",
      "metadata": {
        "id": "jjHkChMl-aLS"
      },
      "source": [
        "datos = np.loadtxt(open('entrada.csv','r'),delimiter=',') # 'r' indica que se va a leer. El delimitador es lo que se usa para separar los datos y leerlos."
      ],
      "execution_count": null,
      "outputs": []
    },
    {
      "cell_type": "code",
      "source": [
        "datos #Carga lso datos en un arreglo de numpy"
      ],
      "metadata": {
        "colab": {
          "base_uri": "https://localhost:8080/"
        },
        "id": "Habz7GZdAXFG",
        "outputId": "d5d6e7f4-8790-45d6-d5be-9dd93f54fbd3"
      },
      "execution_count": null,
      "outputs": [
        {
          "output_type": "execute_result",
          "data": {
            "text/plain": [
              "array([[0.56445312, 0.7857666 , 0.66238403, 0.381073  , 0.76885986],\n",
              "       [0.70596313, 0.89736938, 0.90246582, 0.88717651, 0.21951294],\n",
              "       [0.00320435, 0.88973999, 0.27859497, 0.18301392, 0.10778809],\n",
              "       [0.36602783, 0.15338135, 0.62615967,        nan, 0.98999023],\n",
              "       [0.19818115, 0.00131226, 0.20666504, 0.55252075, 0.71081543],\n",
              "       [0.90380859, 0.05490112, 0.70968628, 0.02615356, 0.91934204],\n",
              "       [0.15689087, 0.85852051, 0.51434326, 0.75436401, 0.4425354 ],\n",
              "       [0.56121826, 0.93249512, 0.30606079, 0.21484375, 0.42486572],\n",
              "       [0.41104126, 0.82803345, 0.27801514,        nan, 0.85632324],\n",
              "       [0.84790039, 0.80950928, 0.49990845, 0.05026245, 0.99301147]])"
            ]
          },
          "metadata": {},
          "execution_count": 44
        }
      ]
    },
    {
      "cell_type": "code",
      "source": [
        "np.sqrt(datos)"
      ],
      "metadata": {
        "id": "eOFpWqsGSILx",
        "colab": {
          "base_uri": "https://localhost:8080/"
        },
        "outputId": "7be62a7b-130d-42f2-d868-6a26f1f53f73"
      },
      "execution_count": null,
      "outputs": [
        {
          "output_type": "execute_result",
          "data": {
            "text/plain": [
              "array([[0.75130096, 0.88643477, 0.81386979, 0.6173111 , 0.87684654],\n",
              "       [0.84021612, 0.94729583, 0.94998201, 0.94190048, 0.46852208],\n",
              "       [0.05660694, 0.9432603 , 0.52782096, 0.42780126, 0.32831096],\n",
              "       [0.60500234, 0.39163931, 0.79130251,        nan, 0.99498253],\n",
              "       [0.44517542, 0.03622507, 0.45460427, 0.7433174 , 0.84309871],\n",
              "       [0.95068848, 0.23430989, 0.8424288 , 0.16172064, 0.95882326],\n",
              "       [0.39609452, 0.92656382, 0.71717729, 0.86854131, 0.66523334],\n",
              "       [0.74914502, 0.96565787, 0.55322761, 0.46351241, 0.65181725],\n",
              "       [0.641125  , 0.90996343, 0.52727141,        nan, 0.92537735],\n",
              "       [0.92081507, 0.89972733, 0.70704204, 0.22419289, 0.99649961]])"
            ]
          },
          "metadata": {},
          "execution_count": 43
        }
      ]
    },
    {
      "cell_type": "markdown",
      "metadata": {
        "id": "Dkhe-laY-j48"
      },
      "source": [
        "Con **skiprows** se puede omitir tantas filas como se desee."
      ]
    },
    {
      "cell_type": "code",
      "metadata": {
        "id": "Zl_WkifC-cRy",
        "colab": {
          "base_uri": "https://localhost:8080/"
        },
        "outputId": "3ae74354-71ea-4334-b776-72f6733828b1"
      },
      "source": [
        "datos = np.loadtxt(open('entrada.csv','r'),delimiter=',',skiprows=4) #Ignora las primeras 4 filas\n",
        "datos"
      ],
      "execution_count": null,
      "outputs": [
        {
          "output_type": "execute_result",
          "data": {
            "text/plain": [
              "array([[0.19818115, 0.00131226, 0.20666504, 0.55252075, 0.71081543],\n",
              "       [0.90380859, 0.05490112, 0.70968628, 0.02615356, 0.91934204],\n",
              "       [0.15689087, 0.85852051, 0.51434326, 0.75436401, 0.4425354 ],\n",
              "       [0.56121826, 0.93249512, 0.30606079, 0.21484375, 0.42486572],\n",
              "       [0.41104126, 0.82803345, 0.27801514,        nan, 0.85632324],\n",
              "       [0.84790039, 0.80950928, 0.49990845, 0.05026245, 0.99301147]])"
            ]
          },
          "metadata": {},
          "execution_count": 45
        }
      ]
    },
    {
      "cell_type": "markdown",
      "metadata": {
        "id": "bWANdpa2-qlz"
      },
      "source": [
        "### Archivos con encabezados\n",
        "\n",
        "Para cargar datos con encabezados en las columnas se utiliza **genfromtxt()**. Con esta función también se pueden leer archivos sin encabezado usando **names=False**."
      ]
    },
    {
      "cell_type": "code",
      "metadata": {
        "id": "b1a9-yue-xe6",
        "colab": {
          "base_uri": "https://localhost:8080/"
        },
        "outputId": "dc51bea9-47d9-41b4-82f9-3031bc074cc0"
      },
      "source": [
        "datos = np.genfromtxt('sismos.csv', dtype=float, delimiter=',', names=True)\n",
        "        #Parsear es cambiar el tipo de dato, o adaptar a que sean cierto tipo de dato en especifico.\n",
        "datos"
      ],
      "execution_count": null,
      "outputs": [
        {
          "output_type": "execute_result",
          "data": {
            "text/plain": [
              "array([(1990.,  5.,  6.,  1., 56., 3., 9.7489, -83.7534),\n",
              "       (1991.,  4., 30.,  1., 55., 5., 9.7489, -83.7534),\n",
              "       (1992.,  8., 31.,  2., 44., 3., 9.7489, -83.7534),\n",
              "       (1993.,  7.,  3.,  3., 21., 4., 9.7489, -83.7534),\n",
              "       (1993.,  9., 24.,  4., 39., 5., 9.7489, -83.7534),\n",
              "       (1993., 11., 15.,  5., 17., 3., 9.7489, -83.7534),\n",
              "       (1993.,  1., 16.,  8., 45., 7., 9.7489, -83.7534),\n",
              "       (1997.,  2., 22.,  9., 44., 4., 9.7489, -83.7534),\n",
              "       (1998.,  3., 12., 15., 54., 2., 9.7489, -83.7534),\n",
              "       (1999., 11., 13., 15., 21., 3., 9.7489, -83.7534),\n",
              "       (2000.,  2., 14., 16., 10., 8., 9.7489, -83.7534)],\n",
              "      dtype=[('anio', '<f8'), ('mes', '<f8'), ('dia', '<f8'), ('hora', '<f8'), ('minuto', '<f8'), ('escala', '<f8'), ('latitud', '<f8'), ('longitud', '<f8')])"
            ]
          },
          "metadata": {},
          "execution_count": 46
        }
      ]
    },
    {
      "cell_type": "markdown",
      "metadata": {
        "id": "RvNQvOnj-z6L"
      },
      "source": [
        " * Se puede acceder a los nombres con el atributo **dtype.names**.\n",
        " * Para conocer los datos se puede usar el nombre de las columnas en vez del índice."
      ]
    },
    {
      "cell_type": "code",
      "metadata": {
        "id": "NCV81WnM-zDa",
        "colab": {
          "base_uri": "https://localhost:8080/"
        },
        "outputId": "9b69de09-6865-4e24-c32a-692fed54f746"
      },
      "source": [
        "datos.dtype.names"
      ],
      "execution_count": null,
      "outputs": [
        {
          "output_type": "execute_result",
          "data": {
            "text/plain": [
              "('anio', 'mes', 'dia', 'hora', 'minuto', 'escala', 'latitud', 'longitud')"
            ]
          },
          "metadata": {},
          "execution_count": 47
        }
      ]
    },
    {
      "cell_type": "code",
      "source": [
        "datos['escala'] #Indexo por el nombre de la columna."
      ],
      "metadata": {
        "id": "M7adEjvGTTjn",
        "colab": {
          "base_uri": "https://localhost:8080/"
        },
        "outputId": "5df7a52f-e2aa-429a-e824-4c96b1147ef6"
      },
      "execution_count": null,
      "outputs": [
        {
          "output_type": "execute_result",
          "data": {
            "text/plain": [
              "array([3., 5., 3., 4., 5., 3., 7., 4., 2., 3., 8.])"
            ]
          },
          "metadata": {},
          "execution_count": 48
        }
      ]
    },
    {
      "cell_type": "markdown",
      "metadata": {
        "id": "F2KYejOF--Vb"
      },
      "source": [
        "### Guardar datos\n",
        "**savetxt()** sirve para guardar datos."
      ]
    },
    {
      "cell_type": "code",
      "metadata": {
        "id": "oaIKl5np-7-6"
      },
      "source": [
        "arr = np.arange(0, 1000, 0.01) #arreglo entre 0 y 1000, separado por 0.01\n",
        "arr"
      ],
      "execution_count": null,
      "outputs": []
    },
    {
      "cell_type": "code",
      "source": [
        "np.savetxt('salida.csv',arr, delimiter=',', fmt='%.2f') #fmt indica el formato de los decimales para cada float, en este caso dos decimales.\n",
        "              # Formato csv, indica archivos separados por , o similar."
      ],
      "metadata": {
        "id": "4YupjLQWTnXU"
      },
      "execution_count": null,
      "outputs": []
    }
  ]
}