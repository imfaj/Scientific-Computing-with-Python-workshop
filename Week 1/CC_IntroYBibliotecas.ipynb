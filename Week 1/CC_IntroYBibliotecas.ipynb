{
  "nbformat": 4,
  "nbformat_minor": 0,
  "metadata": {
    "colab": {
      "name": "CC_IntroYBibliotecas.ipynb",
      "provenance": [],
      "collapsed_sections": []
    },
    "kernelspec": {
      "name": "python3",
      "display_name": "Python 3"
    }
  },
  "cells": [
    {
      "cell_type": "markdown",
      "metadata": {
        "id": "FluAs_DSAotX"
      },
      "source": [
        "# <center> **Computación científica con Python** </center>\n",
        "\n",
        "## <center> Mariela Abdalah mabdalah@cenat.ac.cr </center>\n",
        "## <center> Diego Jiménez djimenez@cenat.ac.cr </center>\n",
        "\n",
        "## <center> Asistente: Kevin Facey </center>\n",
        "\n",
        "<center> <img src=\"https://drive.google.com/uc?export=view&id=1sVKfpWSvpqPBhhbmyZ-P8lfT8usfDnXg\" alt=\"image info\" width=\"400\"/> <img src=\"https://drive.google.com/uc?export=view&id=1jD-3gWNA4tEhem627nJfeD1IsUJLwSa0\" alt=\"image info\" width=\"400\"/> </center> \n",
        "\n",
        "## <center> Mayo, 2022 </center>\n",
        "\n",
        "# <center> Introducción </center>\n",
        "\n",
        "## Ambiente de programación interactivo\n",
        "\n",
        "* Se ha vuelto muy popular en la comunidad científica y de análisis de datos por la capacidad de integrar todo un flujo de análisis en un único documento que se puede guardar, recargar y reutilizar.\n",
        "* **IPython**: plataforma de computación interactiva con Python.\n",
        "* **Jupyter Notebooks**: herramienta que permite combinar código, texto, expresiones matemáticas, gráficos y otros recursos comunicativos en un ambiente basado en web.\n",
        "\n",
        "Un cuaderno se compone de celdas de **texto** y otras de **código**.\n",
        "\n",
        "Para ejecutar una celda: **Shift + Enter**.\n",
        "\n",
        "### Celdas de código\n",
        "\n",
        "\n"
      ]
    },
    {
      "cell_type": "code",
      "metadata": {
        "id": "DbAW5Xn6Ynum",
        "colab": {
          "base_uri": "https://localhost:8080/"
        },
        "outputId": "ffcc820e-380f-4a61-9e9e-5e5c8c414bb3"
      },
      "source": [
        "print('¡Bienvenidos al taller!') "
      ],
      "execution_count": 1,
      "outputs": [
        {
          "output_type": "stream",
          "name": "stdout",
          "text": [
            "¡Bienvenidos al taller!\n"
          ]
        }
      ]
    },
    {
      "cell_type": "markdown",
      "metadata": {
        "id": "zLWt-fF-Yyue"
      },
      "source": [
        "Es posible desde un cuaderno ejecutar operaciones de línea de comando."
      ]
    },
    {
      "cell_type": "code",
      "metadata": {
        "id": "YFvBuRsuZAQt",
        "colab": {
          "base_uri": "https://localhost:8080/"
        },
        "outputId": "758937fd-2994-4c5c-c51f-6b8f802ad2fa"
      },
      "source": [
        "!ls #Permite ver que tengo en la carpeta en la que estoy en ese momento.\n",
        "#Para usar en colab las operaciones en lineas de comando debo usar ''!''"
      ],
      "execution_count": 2,
      "outputs": [
        {
          "output_type": "stream",
          "name": "stdout",
          "text": [
            "sample_data\n"
          ]
        }
      ]
    },
    {
      "cell_type": "code",
      "metadata": {
        "id": "auHFZm1d4a3l",
        "colab": {
          "base_uri": "https://localhost:8080/"
        },
        "outputId": "6f015c05-3f0e-4255-e497-947af06556d3"
      },
      "source": [
        "!echo ¡Bienvenidos al taller! #Repite lo que escribi."
      ],
      "execution_count": 3,
      "outputs": [
        {
          "output_type": "stream",
          "name": "stdout",
          "text": [
            "¡Bienvenidos al taller!\n"
          ]
        }
      ]
    },
    {
      "cell_type": "markdown",
      "metadata": {
        "id": "76UeJdolZN_A"
      },
      "source": [
        " Como parte de IPython, existen algunos comando mágicos. Se pueden consultar con **%lsmagic**"
      ]
    },
    {
      "cell_type": "code",
      "metadata": {
        "id": "tg7qVHbpZPx9",
        "colab": {
          "base_uri": "https://localhost:8080/",
          "height": 159
        },
        "outputId": "5495e5aa-ed1c-4d7f-bd99-46ec268c1c0b"
      },
      "source": [
        "%lsmagic #Con este comando veo que comandos magicos hay. Se debe poner con el simbolo %"
      ],
      "execution_count": 4,
      "outputs": [
        {
          "output_type": "execute_result",
          "data": {
            "text/plain": [
              "Available line magics:\n",
              "%alias  %alias_magic  %autocall  %automagic  %autosave  %bookmark  %cat  %cd  %clear  %colors  %config  %connect_info  %cp  %debug  %dhist  %dirs  %doctest_mode  %ed  %edit  %env  %gui  %hist  %history  %killbgscripts  %ldir  %less  %lf  %lk  %ll  %load  %load_ext  %loadpy  %logoff  %logon  %logstart  %logstate  %logstop  %ls  %lsmagic  %lx  %macro  %magic  %man  %matplotlib  %mkdir  %more  %mv  %notebook  %page  %pastebin  %pdb  %pdef  %pdoc  %pfile  %pinfo  %pinfo2  %pip  %popd  %pprint  %precision  %profile  %prun  %psearch  %psource  %pushd  %pwd  %pycat  %pylab  %qtconsole  %quickref  %recall  %rehashx  %reload_ext  %rep  %rerun  %reset  %reset_selective  %rm  %rmdir  %run  %save  %sc  %set_env  %shell  %store  %sx  %system  %tb  %tensorflow_version  %time  %timeit  %unalias  %unload_ext  %who  %who_ls  %whos  %xdel  %xmode\n",
              "\n",
              "Available cell magics:\n",
              "%%!  %%HTML  %%SVG  %%bash  %%bigquery  %%capture  %%debug  %%file  %%html  %%javascript  %%js  %%latex  %%perl  %%prun  %%pypy  %%python  %%python2  %%python3  %%ruby  %%script  %%sh  %%shell  %%svg  %%sx  %%system  %%time  %%timeit  %%writefile\n",
              "\n",
              "Automagic is ON, % prefix IS NOT needed for line magics."
            ],
            "application/json": {
              "line": {
                "automagic": "AutoMagics",
                "autocall": "AutoMagics",
                "alias_magic": "BasicMagics",
                "lsmagic": "BasicMagics",
                "magic": "BasicMagics",
                "page": "BasicMagics",
                "profile": "BasicMagics",
                "pprint": "BasicMagics",
                "colors": "BasicMagics",
                "xmode": "BasicMagics",
                "quickref": "BasicMagics",
                "doctest_mode": "BasicMagics",
                "gui": "BasicMagics",
                "precision": "BasicMagics",
                "notebook": "BasicMagics",
                "save": "CodeMagics",
                "pastebin": "CodeMagics",
                "loadpy": "CodeMagics",
                "load": "CodeMagics",
                "edit": "KernelMagics",
                "config": "ConfigMagics",
                "prun": "ExecutionMagics",
                "pdb": "ExecutionMagics",
                "debug": "ExecutionMagics",
                "tb": "ExecutionMagics",
                "run": "ExecutionMagics",
                "timeit": "ExecutionMagics",
                "time": "ExecutionMagics",
                "macro": "ExecutionMagics",
                "load_ext": "ExtensionMagics",
                "unload_ext": "ExtensionMagics",
                "reload_ext": "ExtensionMagics",
                "history": "HistoryMagics",
                "recall": "HistoryMagics",
                "rerun": "HistoryMagics",
                "logstart": "LoggingMagics",
                "logstop": "LoggingMagics",
                "logoff": "LoggingMagics",
                "logon": "LoggingMagics",
                "logstate": "LoggingMagics",
                "pinfo": "NamespaceMagics",
                "pinfo2": "NamespaceMagics",
                "pdef": "NamespaceMagics",
                "pdoc": "NamespaceMagics",
                "psource": "NamespaceMagics",
                "pfile": "NamespaceMagics",
                "psearch": "NamespaceMagics",
                "who_ls": "NamespaceMagics",
                "who": "NamespaceMagics",
                "whos": "NamespaceMagics",
                "reset": "NamespaceMagics",
                "reset_selective": "NamespaceMagics",
                "xdel": "NamespaceMagics",
                "alias": "OSMagics",
                "unalias": "OSMagics",
                "rehashx": "OSMagics",
                "pwd": "OSMagics",
                "cd": "OSMagics",
                "env": "OSMagics",
                "set_env": "OSMagics",
                "pushd": "OSMagics",
                "popd": "OSMagics",
                "dirs": "OSMagics",
                "dhist": "OSMagics",
                "sc": "OSMagics",
                "sx": "OSMagics",
                "system": "OSMagics",
                "bookmark": "OSMagics",
                "pycat": "OSMagics",
                "matplotlib": "PylabMagics",
                "pylab": "PylabMagics",
                "killbgscripts": "ScriptMagics",
                "ed": "Other",
                "hist": "Other",
                "rep": "Other",
                "clear": "KernelMagics",
                "less": "KernelMagics",
                "more": "KernelMagics",
                "man": "KernelMagics",
                "connect_info": "KernelMagics",
                "qtconsole": "KernelMagics",
                "autosave": "KernelMagics",
                "mkdir": "Other",
                "rmdir": "Other",
                "mv": "Other",
                "rm": "Other",
                "cp": "Other",
                "cat": "Other",
                "ls": "Other",
                "ll": "Other",
                "lf": "Other",
                "lk": "Other",
                "ldir": "Other",
                "lx": "Other",
                "store": "StoreMagics",
                "shell": "Other",
                "pip": "Other",
                "tensorflow_version": "Other"
              },
              "cell": {
                "js": "DisplayMagics",
                "javascript": "DisplayMagics",
                "latex": "DisplayMagics",
                "svg": "DisplayMagics",
                "html": "DisplayMagics",
                "prun": "ExecutionMagics",
                "debug": "ExecutionMagics",
                "timeit": "ExecutionMagics",
                "time": "ExecutionMagics",
                "capture": "ExecutionMagics",
                "sx": "OSMagics",
                "system": "OSMagics",
                "!": "OSMagics",
                "writefile": "OSMagics",
                "script": "ScriptMagics",
                "sh": "Other",
                "bash": "Other",
                "perl": "Other",
                "ruby": "Other",
                "python": "Other",
                "python2": "Other",
                "python3": "Other",
                "pypy": "Other",
                "SVG": "Other",
                "HTML": "Other",
                "file": "Other",
                "bigquery": "Other",
                "shell": "Other"
              }
            }
          },
          "metadata": {},
          "execution_count": 4
        }
      ]
    },
    {
      "cell_type": "code",
      "metadata": {
        "id": "WYJK9PttZSEk",
        "colab": {
          "base_uri": "https://localhost:8080/"
        },
        "outputId": "ae021db2-14fc-44ec-9db5-5c50246bf255"
      },
      "source": [
        "%%writefile magic.txt \n",
        "#Este escribe el texto de abajo del comando en un archivo con el nombre que le doy.\n",
        "#Revisar el archivo magic.txt que se crea.\n",
        "\n",
        "Esto es una prueba de los comandos mágicos."
      ],
      "execution_count": 5,
      "outputs": [
        {
          "output_type": "stream",
          "name": "stdout",
          "text": [
            "Writing magic.txt\n"
          ]
        }
      ]
    },
    {
      "cell_type": "code",
      "metadata": {
        "id": "Kb8KiUbj5Ghc",
        "colab": {
          "base_uri": "https://localhost:8080/"
        },
        "outputId": "6fb50997-3738-46b5-8223-8fc3725773e7"
      },
      "source": [
        "%cat magic.txt"
      ],
      "execution_count": 6,
      "outputs": [
        {
          "output_type": "stream",
          "name": "stdout",
          "text": [
            "#Este escribe el texto de abajo en un archivo con el nombre que le doy.\n",
            "\n",
            "Esto es una prueba de los comandos mágicos."
          ]
        }
      ]
    },
    {
      "cell_type": "markdown",
      "metadata": {
        "id": "Kzk9YtN4aFS5"
      },
      "source": [
        "### Celdas de texto\n",
        "\n",
        "Esta es una celda de texto y nos permite comentar nuestros procesos científicos y resultados. Se pueden incluir ecuaciones matemáticas con $\\mathrm{\\LaTeX}$ y hasta [links](https://ipython.org/).\n",
        "\n",
        "$$r_s=\\frac{2GM}{c^2}$$\n",
        "\n"
      ]
    },
    {
      "cell_type": "markdown",
      "metadata": {
        "id": "ZPJFn3zEbk7M"
      },
      "source": [
        "# <center> Bibliotecas y documentación en Python </center>\n",
        "\n",
        "## ¿Qué es una biblioteca?\n",
        "\n",
        "* Se trata de una colección de recursos que se utilizan para el desarrollo de software. \n",
        "* Generalmente está compuesta de **módulos** que encierran una función específica o una serie de funciones relacionadas.\n",
        "* *Ejemplo*: **cm** y **contour** son módulos de **matplotlib**, una se usa para crear mapas de color y la otra para graficar contornos.\n",
        "\n",
        "## ¿Cuáles bibliotecas existen en Python?\n",
        "\n",
        "<center> <img src=\"https://drive.google.com/uc?export=view&id=1OjwBO5jJSXEB1CVi44-jTOiVVaEPAYSP\" alt=\"image info\" width=\"700\"/> </center>\n",
        "\n",
        "### **En este momento, Python tiene más de 250 bibliotecas.**\n",
        "\n",
        "## ¿Cómo se cargan y se utilizan las bibliotecas en Python?\n",
        "\n",
        "* Para cargar un módulo o biblioteca, se utiliza **import** y el nombre de la biblioteca o módulo.\n",
        "* Dentro de cada biblioteca existe una **jerarquía**. No siempre al cargar una biblioteca se cargan todos sus módulos.\n",
        "\n",
        "<center> <img src=\"https://drive.google.com/uc?export=view&id=13_Vs1EL_8S9cU5qI51Jk5Qb507j_NO2u\" alt=\"image info\" width=\"400\"/> </center>\n",
        "\n",
        "* Cargar toda una biblioteca puede ser pesado en ocasiones. Se prefiere cargar el módulo que se va a necesitar solamente.\n",
        "* La sintaxis es **nombreBiblioteca.nombreModulo**. \n",
        "* Similarmente, para llamar una función que se encuentra en la biblioteca se indica su nombre.\n"
      ]
    },
    {
      "cell_type": "code",
      "metadata": {
        "id": "UEHtfwy6cvjW",
        "colab": {
          "base_uri": "https://localhost:8080/"
        },
        "outputId": "00401da8-a7e2-4939-cc09-5ce27e36641b"
      },
      "source": [
        "import numpy #Importando toda la biblioteca NumPy\n",
        "import matplotlib.pyplot #Importando el módulo pyplot de la biblioteca matplotlib. No se esta importando toda la biblioteca de matplotlib\n",
        "                          #Hay que respetar la jerarquia de las bibliotecas.\n",
        "\n",
        "print(numpy.log(10)) #Usando la función log de Numpy"
      ],
      "execution_count": 7,
      "outputs": [
        {
          "output_type": "stream",
          "name": "stdout",
          "text": [
            "2.302585092994046\n"
          ]
        }
      ]
    },
    {
      "cell_type": "markdown",
      "metadata": {
        "id": "5iqG7XjfglaO"
      },
      "source": [
        "Otra manera de importar módulos es usando **from**."
      ]
    },
    {
      "cell_type": "code",
      "metadata": {
        "id": "YSlbaYNmgUO3"
      },
      "source": [
        "from matplotlib import pyplot # Es otra forma de importar bibliotecas, especificamente los modulos, pero es mas complicado.\n",
        "    #Significa de matplotlib importeme pyplot."
      ],
      "execution_count": null,
      "outputs": []
    },
    {
      "cell_type": "markdown",
      "metadata": {
        "id": "dVR9U9HFhx8d"
      },
      "source": [
        "## Convenciones al importar\n",
        "\n",
        "* Con **as** se puede asignar un alias a la biblioteca, así se puede utilizar de manera más práctica.\n",
        "* Los alias usados a veces se utilizan por convención. *Ejemplo*: **plt** para **matplotlib.pyplot** o **np** para **NumPy**."
      ]
    },
    {
      "cell_type": "code",
      "metadata": {
        "id": "lZ_N8dKah1Nx",
        "colab": {
          "base_uri": "https://localhost:8080/"
        },
        "outputId": "426a1c37-4fa9-4161-ccac-bd04f27a986e"
      },
      "source": [
        "import numpy as np #Importando una biblioteca con as poniendole el alias np\n",
        "    # Para estos alias ya hay una convencion.\n",
        "\n",
        "print(np.log(10))"
      ],
      "execution_count": 8,
      "outputs": [
        {
          "output_type": "stream",
          "name": "stdout",
          "text": [
            "2.302585092994046\n"
          ]
        }
      ]
    },
    {
      "cell_type": "markdown",
      "metadata": {
        "id": "z9ozQqf8h7yr"
      },
      "source": [
        "Se pueden mezclar **from** y **as**."
      ]
    },
    {
      "cell_type": "code",
      "metadata": {
        "id": "82_aho2xh6DV"
      },
      "source": [
        "from matplotlib import pyplot as plt"
      ],
      "execution_count": null,
      "outputs": []
    },
    {
      "cell_type": "markdown",
      "metadata": {
        "id": "SvQ9FkxRiF6m"
      },
      "source": [
        "Las bibliotecas en general tienen una muy buena documentación en internet. Para otras funciones estándar de Python, consultar la ayuda puede ser útil.\n",
        "\n",
        "## Python help()\n",
        "\n",
        "Es una utilidad para obtener información sobre elementos de Python como una clase, una variable, un módulo, etc."
      ]
    },
    {
      "cell_type": "code",
      "metadata": {
        "id": "IbQmPi8oir5r"
      },
      "source": [
        "help('from') #Tira toda la recomendacion estandar relacionada a ese elemento"
      ],
      "execution_count": null,
      "outputs": []
    },
    {
      "cell_type": "markdown",
      "metadata": {
        "id": "MmFV9SQyizfu"
      },
      "source": [
        "* Si no se da un argumento a la función help(), iniciará una sesión interactiva con instrucciones en la que se puede consultar una ayuda global.\n",
        "* Para salir de este modo se digita **quit**."
      ]
    },
    {
      "cell_type": "code",
      "metadata": {
        "id": "OHjscBNhit6W"
      },
      "source": [
        "help() # O sea aparece una linea para colocar lo que se desea buscar para ayuda."
      ],
      "execution_count": null,
      "outputs": []
    },
    {
      "cell_type": "markdown",
      "metadata": {
        "id": "uvhNxTYljRfc"
      },
      "source": [
        "## Mensajes de error\n",
        "\n",
        "Consultar la documentación es clave para solucionar errores, los cuales muchas veces están asociados a un mal uso de los objetos."
      ]
    },
    {
      "cell_type": "code",
      "metadata": {
        "id": "H4jY1T2AjZlk",
        "colab": {
          "base_uri": "https://localhost:8080/"
        },
        "outputId": "33f3ed73-c412-4abb-acbc-59764f011424"
      },
      "source": [
        "import numpy as np\n",
        "#Leccion 1, un warning no es un error. \n",
        "print(np.log(0))"
      ],
      "execution_count": 11,
      "outputs": [
        {
          "output_type": "stream",
          "name": "stdout",
          "text": [
            "-inf\n"
          ]
        },
        {
          "output_type": "stream",
          "name": "stderr",
          "text": [
            "/usr/local/lib/python3.7/dist-packages/ipykernel_launcher.py:3: RuntimeWarning: divide by zero encountered in log\n",
            "  This is separate from the ipykernel package so we can avoid doing imports until\n"
          ]
        }
      ]
    },
    {
      "cell_type": "markdown",
      "metadata": {
        "id": "PzlUggGEwwgF"
      },
      "source": [
        "* Los errores en Python, si se leen, son sencillos de interpretar la mayoría de las veces.\n",
        "* Existen varios tipos de errores.\n",
        "* Muchas veces, el tipo de error tiene que ver con la indentación.\n",
        "* El tipo de error es identificado por Python y ayuda a encontrar su origen. Los errores se separan en errores de **sintaxis** y ***runtime***."
      ]
    },
    {
      "cell_type": "code",
      "metadata": {
        "id": "eg7ZTSebxAoR",
        "colab": {
          "base_uri": "https://localhost:8080/",
          "height": 130
        },
        "outputId": "e0605265-4ea1-420e-c267-1031319d5fb4"
      },
      "source": [
        "print 'Error de sintaxis: se escribe algo mal'\n",
        "#Python indica el error y manda recomendacion de lo que quizas ud quiere poner."
      ],
      "execution_count": 12,
      "outputs": [
        {
          "output_type": "error",
          "ename": "SyntaxError",
          "evalue": "ignored",
          "traceback": [
            "\u001b[0;36m  File \u001b[0;32m\"<ipython-input-12-caec16c143b1>\"\u001b[0;36m, line \u001b[0;32m1\u001b[0m\n\u001b[0;31m    print 'Error de sintaxis: se escribe algo mal'\u001b[0m\n\u001b[0m                                                 ^\u001b[0m\n\u001b[0;31mSyntaxError\u001b[0m\u001b[0;31m:\u001b[0m Missing parentheses in call to 'print'. Did you mean print('Error de sintaxis: se escribe algo mal')?\n"
          ]
        }
      ]
    },
    {
      "cell_type": "code",
      "metadata": {
        "id": "nWjz0SsYxFX1",
        "colab": {
          "base_uri": "https://localhost:8080/",
          "height": 183
        },
        "outputId": "d9331e30-d70c-49e7-c388-2597eb6152b0"
      },
      "source": [
        "tupla = (0,2,8)\n",
        "tupla[0] = 7\n",
        "#Las tuplas por definicion son estructuras de datos que no se pueden modificar, asi que el error esta\n",
        "#en querer modificarlo."
      ],
      "execution_count": 13,
      "outputs": [
        {
          "output_type": "error",
          "ename": "TypeError",
          "evalue": "ignored",
          "traceback": [
            "\u001b[0;31m---------------------------------------------------------------------------\u001b[0m",
            "\u001b[0;31mTypeError\u001b[0m                                 Traceback (most recent call last)",
            "\u001b[0;32m<ipython-input-13-8255f9afedd5>\u001b[0m in \u001b[0;36m<module>\u001b[0;34m()\u001b[0m\n\u001b[1;32m      1\u001b[0m \u001b[0mtupla\u001b[0m \u001b[0;34m=\u001b[0m \u001b[0;34m(\u001b[0m\u001b[0;36m0\u001b[0m\u001b[0;34m,\u001b[0m\u001b[0;36m2\u001b[0m\u001b[0;34m,\u001b[0m\u001b[0;36m8\u001b[0m\u001b[0;34m)\u001b[0m\u001b[0;34m\u001b[0m\u001b[0;34m\u001b[0m\u001b[0m\n\u001b[0;32m----> 2\u001b[0;31m \u001b[0mtupla\u001b[0m\u001b[0;34m[\u001b[0m\u001b[0;36m0\u001b[0m\u001b[0;34m]\u001b[0m \u001b[0;34m=\u001b[0m \u001b[0;36m7\u001b[0m\u001b[0;34m\u001b[0m\u001b[0;34m\u001b[0m\u001b[0m\n\u001b[0m",
            "\u001b[0;31mTypeError\u001b[0m: 'tuple' object does not support item assignment"
          ]
        }
      ]
    },
    {
      "cell_type": "markdown",
      "metadata": {
        "id": "nmw5VrzLcpgt"
      },
      "source": [
        "* El error anterior es un error de *runtime* relacionado con el **tipo de objeto** cuando se quiere aplicar una operación indebida para el mismo, por ello se denomina ***TypeError***.\n",
        "* Las tuplas no son modificables, por lo que Python señala un error y además **dónde se encuentra**."
      ]
    },
    {
      "cell_type": "markdown",
      "metadata": {
        "id": "fU2lNOJ6csZ_"
      },
      "source": [
        "\n",
        "## <font color='purple'>**¿Cuál de los errores surgirá primero?**</font>\n",
        "\n",
        "```\n",
        "tupla[0]=6\n",
        "print 'Las tuplas no son modificables'\n",
        "```\n",
        "\n"
      ]
    },
    {
      "cell_type": "code",
      "source": [
        "#Python da prioridad a revisar los errores de sintaxis, por eso primero menciona el error que hay en print."
      ],
      "metadata": {
        "id": "ktKpgDy40mLW"
      },
      "execution_count": null,
      "outputs": []
    },
    {
      "cell_type": "markdown",
      "metadata": {
        "id": "CkWuKZ37xLxN"
      },
      "source": [
        "\n",
        "### Stack Overflow y la cultura de buscar soluciones en internet\n",
        "\n",
        "* Algunos errores no son tan fáciles de interpretar. Python es un lenguaje muy popular, tiene gran cantidad de documentación. Lo recomendable es que al obtener un error, si no se comprende, **se busque en la web**.\n",
        "* **Stack Overflow** es un sitio web donde los programadores hacen consultas y/o las responden, referentes a distintos lenguajes.\n",
        "* Si no se sabe cómo resolver un problema o quitar un error, es muy probable que en Stack Overflow ya alguien lo haya hecho.\n",
        "* Lo más recomendable es hacer las búsquedas en **inglés** para tener mejores resultados."
      ]
    }
  ]
}