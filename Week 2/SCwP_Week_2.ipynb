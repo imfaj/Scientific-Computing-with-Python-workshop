{
  "nbformat": 4,
  "nbformat_minor": 0,
  "metadata": {
    "colab": {
      "name": "SCwP Week 2.ipynb",
      "provenance": [],
      "collapsed_sections": []
    },
    "kernelspec": {
      "name": "python3",
      "display_name": "Python 3"
    },
    "language_info": {
      "name": "python"
    }
  },
  "cells": [
    {
      "cell_type": "markdown",
      "source": [
        "#**Lunes 23/Mayo**\n",
        "---\n",
        "\n",
        "Se revisó la Practica Final"
      ],
      "metadata": {
        "id": "ZktscFF_ikxc"
      }
    },
    {
      "cell_type": "markdown",
      "source": [
        "##**Manipulación de datos con Pandas**\n",
        "---\n",
        "\n",
        "Se utilizó el archivo _CC_Pandas.ipynb_ y todos los archivos formato _csv_, relacionados con pacientes del corazón (5 archivos . csv).\n",
        "Además se utilizó el archivo _modeloSIR.csv_, para un ejercicio "
      ],
      "metadata": {
        "id": "uUvZ1WsciGds"
      }
    },
    {
      "cell_type": "markdown",
      "source": [
        "#**Miercoles 25/Mayo**\n",
        "---\n"
      ],
      "metadata": {
        "id": "97J-c0oXGJTQ"
      }
    },
    {
      "cell_type": "markdown",
      "source": [
        "##**Manipulación de datos con Pandas (Continuación)**\n",
        "\n",
        "---\n",
        "Se finalizó la revisión del documento *CC_Pandas.ipynb*."
      ],
      "metadata": {
        "id": "UObOdff3Gd8m"
      }
    },
    {
      "cell_type": "markdown",
      "source": [
        "##**Trabajo en práctica final 2: Pandas**\n",
        "\n",
        "---\n",
        "Se trabajó en la Practica Final 2, en un archivo de nombre *PracticaF_Pandas.ipynb*, para esto se utilizó el archivo _estadisticasPaises.xlsx_"
      ],
      "metadata": {
        "id": "FmhZbWTfktDv"
      }
    },
    {
      "cell_type": "markdown",
      "source": [
        "#**Viernes 27/Mayo**\n",
        "---\n",
        "Se reviso la practica 2."
      ],
      "metadata": {
        "id": "SzvMT3vPGXWs"
      }
    },
    {
      "cell_type": "markdown",
      "source": [
        "##**Visualización de datos con matplotlib**\n",
        "---\n",
        "\n",
        "Se utlizó el archivo *CC_matplotlib.ipynb*."
      ],
      "metadata": {
        "id": "aGLa4B7xGk2R"
      }
    },
    {
      "cell_type": "markdown",
      "source": [
        "##**Trabajo en práctica integradora**\n",
        "---\n"
      ],
      "metadata": {
        "id": "uUGRXSUdGq1b"
      }
    },
    {
      "cell_type": "markdown",
      "source": [
        "##**Evaluación y cierre del taller**\n",
        "---\n",
        "Se hizo la encuesta sobre nuestra opinión del taller."
      ],
      "metadata": {
        "id": "u66QBlAxk7M6"
      }
    }
  ]
}